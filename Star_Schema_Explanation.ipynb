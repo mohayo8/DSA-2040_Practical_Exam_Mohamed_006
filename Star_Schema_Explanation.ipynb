{
 "cells": [
  {
   "cell_type": "markdown",
   "id": "7814aad1",
   "metadata": {},
   "source": [
    "### Star Schema Explanation\n",
    "\n",
    "We choose a star schema because it is simple, query-friendly, and optimized for OLAP operations. All dimensions are directly linked to the fact table, avoiding multiple joins needed in a snowflake schema. This design improves performance and makes business reporting straightforward."
   ]
  }
 ],
 "metadata": {
  "language_info": {
   "name": "python"
  }
 },
 "nbformat": 4,
 "nbformat_minor": 5
}
